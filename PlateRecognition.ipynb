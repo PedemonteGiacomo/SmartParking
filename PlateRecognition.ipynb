{
  "cells": [
    {
      "cell_type": "code",
      "execution_count": null,
      "metadata": {
        "colab": {
          "base_uri": "https://localhost:8080/"
        },
        "id": "UbGUgSCPFpaE",
        "outputId": "26631924-bb76-419b-b5e1-f57e49f1c73e"
      },
      "outputs": [],
      "source": [
        "%pip install easyocr\n",
        "%pip install imutils"
      ]
    },
    {
      "cell_type": "code",
      "execution_count": 2,
      "metadata": {
        "id": "Mjd1EeZJFs58"
      },
      "outputs": [],
      "source": [
        "import cv2\n",
        "from matplotlib import pyplot as plt\n",
        "import numpy as np\n",
        "import imutils\n",
        "import easyocr\n",
        "#from google.colab.patches import cv2_imshow"
      ]
    },
    {
      "cell_type": "code",
      "execution_count": null,
      "metadata": {
        "colab": {
          "base_uri": "https://localhost:8080/",
          "height": 245
        },
        "id": "G2daBPLTFuzI",
        "outputId": "77e91a18-990f-4cfd-d901-69dc51a564fe"
      },
      "outputs": [],
      "source": [
        "img = cv2.imread('license-plates/capture.jpg')\n",
        "\n",
        "# Define brightness adjustment parameter\n",
        "brightness_factor = 0.9     # Values < 1 darken the image\n",
        "\n",
        "# Apply brightness reduction\n",
        "img = np.clip(img * brightness_factor, 0, 255).astype(np.uint8)\n",
        "\n",
        "gray = cv2.cvtColor(img, cv2.COLOR_BGR2GRAY)\n",
        "plt.imshow(cv2.cvtColor(gray, cv2.COLOR_BGR2RGB))"
      ]
    },
    {
      "cell_type": "code",
      "execution_count": null,
      "metadata": {
        "colab": {
          "base_uri": "https://localhost:8080/",
          "height": 361
        },
        "id": "LYLPoUgYFx2s",
        "outputId": "ccea718e-2357-41e0-811d-52a59cc424b5"
      },
      "outputs": [],
      "source": [
        "bfilter = cv2.bilateralFilter(gray, 11, 17, 17) #Noise reduction\n",
        "edged = cv2.Canny(bfilter, 30, 200) #Edge detection\n",
        "plt.imshow(cv2.cvtColor(edged, cv2.COLOR_BGR2RGB))"
      ]
    },
    {
      "cell_type": "code",
      "execution_count": null,
      "metadata": {
        "id": "1nzkIRbCGEKS"
      },
      "outputs": [],
      "source": [
        "keypoints = cv2.findContours(edged.copy(), cv2.RETR_TREE, cv2.CHAIN_APPROX_SIMPLE)\n",
        "contours = imutils.grab_contours(keypoints)\n",
        "contours = sorted(contours, key=cv2.contourArea, reverse=True)[:10]"
      ]
    },
    {
      "cell_type": "code",
      "execution_count": null,
      "metadata": {
        "id": "dRKJoMwTHWTx"
      },
      "outputs": [],
      "source": [
        "location = None\n",
        "for contour in contours:\n",
        "    approx = cv2.approxPolyDP(contour, 10, True)\n",
        "    if len(approx) == 4:\n",
        "        location = approx\n",
        "        break"
      ]
    },
    {
      "cell_type": "code",
      "execution_count": null,
      "metadata": {
        "id": "_dARFTozI_Hw"
      },
      "outputs": [],
      "source": [
        "mask = np.zeros(gray.shape, np.uint8)\n",
        "new_image = cv2.drawContours(mask, [location], 0,255, -1)\n",
        "new_image = cv2.bitwise_and(img, img, mask=mask)"
      ]
    },
    {
      "cell_type": "code",
      "execution_count": null,
      "metadata": {
        "colab": {
          "base_uri": "https://localhost:8080/",
          "height": 361
        },
        "id": "Uv901n_XJCDW",
        "outputId": "93324dc4-f67e-434a-c063-fd2f9b7a779a"
      },
      "outputs": [],
      "source": [
        "plt.imshow(cv2.cvtColor(new_image, cv2.COLOR_BGR2RGB))"
      ]
    },
    {
      "cell_type": "code",
      "execution_count": null,
      "metadata": {
        "id": "A6R56vrMJgkJ"
      },
      "outputs": [],
      "source": [
        "(x,y) = np.where(mask==255)\n",
        "(x1, y1) = (np.min(x), np.min(y))\n",
        "(x2, y2) = (np.max(x), np.max(y))\n",
        "cropped_image = gray[x1:x2+1, y1:y2+1]"
      ]
    },
    {
      "cell_type": "code",
      "execution_count": null,
      "metadata": {
        "colab": {
          "base_uri": "https://localhost:8080/",
          "height": 204
        },
        "id": "3Yq07PFoJk9h",
        "outputId": "8ef0b05a-6764-44a4-e27c-ee01f53648e0"
      },
      "outputs": [],
      "source": [
        "plt.imshow(cv2.cvtColor(cropped_image, cv2.COLOR_BGR2RGB))"
      ]
    },
    {
      "cell_type": "code",
      "execution_count": null,
      "metadata": {
        "colab": {
          "base_uri": "https://localhost:8080/"
        },
        "id": "OT4nlcDbJnC3",
        "outputId": "32bb9f67-dd5d-4570-b67b-2c36b140367d"
      },
      "outputs": [],
      "source": [
        "reader = easyocr.Reader(['en'])\n",
        "result = reader.readtext(cropped_image)"
      ]
    },
    {
      "cell_type": "code",
      "execution_count": null,
      "metadata": {
        "colab": {
          "base_uri": "https://localhost:8080/",
          "height": 361
        },
        "id": "vtaIisM_Jw7b",
        "outputId": "dffb0cf9-c3c9-4c5a-f7d3-17e1e37fcbd7"
      },
      "outputs": [],
      "source": [
        "text = result[0][-2]\n",
        "font = cv2.FONT_HERSHEY_SIMPLEX\n",
        "res = cv2.putText(img, text=text, org=(approx[0][0][0], approx[1][0][1]+60), fontFace=font, fontScale=1, color=(0,255,0), thickness=2, lineType=cv2.LINE_AA)\n",
        "res = cv2.rectangle(img, tuple(approx[0][0]), tuple(approx[2][0]), (0,255,0),3)\n",
        "plt.imshow(cv2.cvtColor(res, cv2.COLOR_BGR2RGB))\n",
        "print(text)"
      ]
    }
  ],
  "metadata": {
    "colab": {
      "provenance": []
    },
    "kernelspec": {
      "display_name": "Python 3",
      "name": "python3"
    },
    "language_info": {
      "codemirror_mode": {
        "name": "ipython",
        "version": 3
      },
      "file_extension": ".py",
      "mimetype": "text/x-python",
      "name": "python",
      "nbconvert_exporter": "python",
      "pygments_lexer": "ipython3",
      "version": "3.10.11"
    }
  },
  "nbformat": 4,
  "nbformat_minor": 0
}
